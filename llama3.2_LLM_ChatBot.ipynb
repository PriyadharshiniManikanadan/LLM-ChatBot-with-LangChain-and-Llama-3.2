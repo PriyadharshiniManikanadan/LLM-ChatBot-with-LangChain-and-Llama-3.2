{
 "cells": [
  {
   "cell_type": "code",
   "execution_count": 1,
   "id": "3de7f28f-8a37-44ea-9292-d75830c6f91d",
   "metadata": {},
   "outputs": [],
   "source": [
    "from langchain_community.llms import Ollama\n",
    "from langchain_core.prompts import ChatPromptTemplate\n",
    "from langchain_core.output_parsers import StrOutputParser\n",
    "import streamlit as st"
   ]
  },
  {
   "cell_type": "code",
   "execution_count": 2,
   "id": "c24002d5-b91e-4869-99bf-1de24be74e95",
   "metadata": {},
   "outputs": [
    {
     "name": "stderr",
     "output_type": "stream",
     "text": [
      "2025-01-07 19:40:43.264 \n",
      "  \u001b[33m\u001b[1mWarning:\u001b[0m to view this Streamlit app on a browser, run it with the following\n",
      "  command:\n",
      "\n",
      "    streamlit run C:\\Anaconda3\\Lib\\site-packages\\ipykernel_launcher.py [ARGUMENTS]\n"
     ]
    }
   ],
   "source": [
    "st.title(\"Priyadharshini's AI ChatBot using LangChain & llama3.2\")\n",
    "input_txt = st.text_input(\"Please enter your querries here...\")"
   ]
  },
  {
   "cell_type": "code",
   "execution_count": 3,
   "id": "85b1b7fb-7efa-4067-b467-cb4a9bd61593",
   "metadata": {},
   "outputs": [],
   "source": [
    "prompt = ChatPromptTemplate.from_messages(\n",
    "    [(\"system\",\"you are a helpful AI assisstant, Your name is Priya's assistant\"),\n",
    "    (\"user\",\"user_querry: {querry}\")]\n",
    ")"
   ]
  },
  {
   "cell_type": "code",
   "execution_count": 4,
   "id": "93d8dcd0-ff65-4eae-b5f4-81260055c298",
   "metadata": {},
   "outputs": [
    {
     "name": "stderr",
     "output_type": "stream",
     "text": [
      "C:\\Users\\priya\\AppData\\Local\\Temp\\ipykernel_4528\\1882891022.py:1: LangChainDeprecationWarning: The class `Ollama` was deprecated in LangChain 0.3.1 and will be removed in 1.0.0. An updated version of the class exists in the :class:`~langchain-ollama package and should be used instead. To use it run `pip install -U :class:`~langchain-ollama` and import as `from :class:`~langchain_ollama import OllamaLLM``.\n",
      "  llm = Ollama(model='llama3.2')\n"
     ]
    }
   ],
   "source": [
    "llm = Ollama(model='llama3.2')\n",
    "output_parser = StrOutputParser()\n",
    "chain = prompt|llm|output_parser"
   ]
  },
  {
   "cell_type": "code",
   "execution_count": 5,
   "id": "b78766ea-89a7-443d-bde9-5a68a9615ffc",
   "metadata": {},
   "outputs": [],
   "source": [
    "if input_txt:\n",
    "    st.write(chain.invoke({'querry':input_txt}))"
   ]
  },
  {
   "cell_type": "code",
   "execution_count": null,
   "id": "1edfcee4-4ab2-477f-90f5-4d92dbd4407a",
   "metadata": {},
   "outputs": [],
   "source": []
  },
  {
   "cell_type": "code",
   "execution_count": null,
   "id": "e6d2cfe4-72b3-4a8b-99ba-74880df4fd8f",
   "metadata": {},
   "outputs": [],
   "source": []
  },
  {
   "cell_type": "code",
   "execution_count": null,
   "id": "619cf9a1-2f5d-4012-ae3b-cb4a4617ac55",
   "metadata": {},
   "outputs": [],
   "source": []
  },
  {
   "cell_type": "code",
   "execution_count": null,
   "id": "26c9feae-6240-4818-873d-91f6ca866dcf",
   "metadata": {},
   "outputs": [],
   "source": []
  },
  {
   "cell_type": "code",
   "execution_count": null,
   "id": "a27d85f8-a516-48a4-88ae-6f63850dc830",
   "metadata": {},
   "outputs": [],
   "source": []
  },
  {
   "cell_type": "code",
   "execution_count": null,
   "id": "a320b125-35bf-45e1-9d4d-b34b3709b93a",
   "metadata": {},
   "outputs": [],
   "source": []
  },
  {
   "cell_type": "code",
   "execution_count": null,
   "id": "c94c8c6e-7233-4981-90d3-e7389e73d870",
   "metadata": {},
   "outputs": [],
   "source": []
  }
 ],
 "metadata": {
  "kernelspec": {
   "display_name": "Python 3 (ipykernel)",
   "language": "python",
   "name": "python3"
  },
  "language_info": {
   "codemirror_mode": {
    "name": "ipython",
    "version": 3
   },
   "file_extension": ".py",
   "mimetype": "text/x-python",
   "name": "python",
   "nbconvert_exporter": "python",
   "pygments_lexer": "ipython3",
   "version": "3.12.4"
  }
 },
 "nbformat": 4,
 "nbformat_minor": 5
}
